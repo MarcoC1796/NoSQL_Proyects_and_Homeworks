{
 "cells": [
  {
   "cell_type": "markdown",
   "metadata": {},
   "source": [
    "# TP 1 - Python\n",
    "\n",
    "* Andrea Carolina Padilla Rodríguez | 166605\n",
    "* Maritrini García Ruiz | 151490\n",
    "* Marco Antonio Chacón Amaro | 165681\n",
    "\n",
    "---"
   ]
  },
  {
   "cell_type": "code",
   "execution_count": 2,
   "metadata": {},
   "outputs": [],
   "source": [
    "#Metodos auxiliares\n",
    "def imprimir_matriz(A):\n",
    "    for a in A:\n",
    "        print(a)\n",
    "    print()"
   ]
  },
  {
   "cell_type": "markdown",
   "metadata": {},
   "source": [
    "## Ejercicio 1\n",
    "\n",
    "Usando el lenguaje de programación Python, elabora programas para resolver lo planteado en los siguientes incisos:  \n",
    "1. Desplazar a la izquierda o a la derecha los elementos de una lista (vector)."
   ]
  },
  {
   "cell_type": "code",
   "execution_count": 29,
   "metadata": {},
   "outputs": [
    {
     "name": "stdout",
     "output_type": "stream",
     "text": [
      "[0, 0, 0, 0, 1, 2, 3, 4, 5, 6]\n"
     ]
    }
   ],
   "source": [
    "def desplazar_vector(A, n, k):\n",
    "    '''\n",
    "    Desplaza los elementos de una lista k unidades a la izquierda (negativo) o derecha (positivo).\n",
    "\n",
    "            Parameters:\n",
    "                    A (list): Una lista\n",
    "                    n (int): cantidad de elementos en la lista\n",
    "                    k (int): lugares a dezplazar donde -len(A) <= k <= len (A)\n",
    "\n",
    "            Returns:\n",
    "                    A (str): Lista desplazada\n",
    "    '''\n",
    "\n",
    "    if not (-n < k < n):\n",
    "        A[:] = [0 for _ in range(n)]\n",
    "        return A\n",
    "    \n",
    "    # Desplazar derecha\n",
    "    if k > 0:\n",
    "        A[k:] = A[:-k]\n",
    "        A[:k] = [0 for _ in range(k)]\n",
    "    #Desplazar izquierda\n",
    "    elif k < 0:\n",
    "        A[:k] = A[-k:]\n",
    "        A[k:] = [0 for _ in range(-k)] \n",
    "    return A\n",
    "\n",
    "# Creamos una lista con elelentos del 1 al 10\n",
    "A = [i + 1 for i in range(10)]\n",
    "# Unidades a desplazar\n",
    "k = 4\n",
    "\n",
    "desplazar_vector(A, len(A), k)\n",
    "print(A)"
   ]
  },
  {
   "cell_type": "markdown",
   "metadata": {},
   "source": [
    "2. Hacer la suma de dos matrices a(m, n) y b(m, n). Los datos pueden darse en la forma que se quiera."
   ]
  },
  {
   "cell_type": "code",
   "execution_count": 4,
   "metadata": {},
   "outputs": [
    {
     "name": "stdout",
     "output_type": "stream",
     "text": [
      "[0, 1, 2]\n",
      "[0, 1, 2]\n",
      "[0, 1, 2]\n",
      "[0, 1, 2]\n",
      "[0, 1, 2]\n",
      "\n",
      "[0, 0, 0]\n",
      "[0, 1, 2]\n",
      "[0, 2, 4]\n",
      "[0, 3, 6]\n",
      "[0, 4, 8]\n",
      "\n",
      "[0, 1, 2]\n",
      "[0, 2, 4]\n",
      "[0, 3, 6]\n",
      "[0, 4, 8]\n",
      "[0, 5, 10]\n",
      "\n"
     ]
    }
   ],
   "source": [
    "def sumar_matrices(A, B):\n",
    "    '''\n",
    "    Suma dos matrices con las mismas dimensiones.\n",
    "\n",
    "            Parameters:\n",
    "                    A (list[list]): matriz (m x n)\n",
    "                    B (list[list]): matriz (m x n)\n",
    "\n",
    "            Returns:\n",
    "                    C (list[list]): A + B\n",
    "    '''\n",
    "    # Suma haciendo uso de comprensión de listas anidadas (por fila y después por posición)\n",
    "    C = [[a + b for a, b in zip(rowA, rowB)] for rowA, rowB in zip(A, B)]\n",
    "    return C\n",
    "\n",
    "# Pruebas\n",
    "A = [[ a for a in range(3)] for i in range(5)] # Definimos matriz A\n",
    "B = [[ i * a for a in range(3)] for i in range(5)] # Definimos matriz B\n",
    "imprimir_matriz(A)\n",
    "imprimir_matriz(B)\n",
    "\n",
    "# Mostramos la suma\n",
    "imprimir_matriz(sumar_matrices(A, B))"
   ]
  },
  {
   "cell_type": "markdown",
   "metadata": {},
   "source": [
    "## Ejercicio 2\n",
    "\n",
    "Escribe la función `tuplaPares` que reciba una tupla como parámetro y regrese una tupla que\n",
    "contenga los elementos que se encuentran en una posición par de la tupla dada como parámetro,\n",
    "comenzando por el primero. Por ejemplo, si recibe `('Yo', 'mi', 'a', 'prueba', 'tupla')`, entonces\n",
    "`tuplaPares` regresará `('Yo', 'a', 'tupla')`. "
   ]
  },
  {
   "cell_type": "code",
   "execution_count": 40,
   "metadata": {},
   "outputs": [
    {
     "name": "stdout",
     "output_type": "stream",
     "text": [
      "('Yo', 'a', 'tupla')\n"
     ]
    }
   ],
   "source": [
    "def tuplaPares(tupla):\n",
    "    '''\n",
    "    Regresa los elementos pares de un tupla.\n",
    "\n",
    "            Parameters:\n",
    "                    tupla (tuple)\n",
    "\n",
    "            Returns:\n",
    "                    tupla2 (tuple)\n",
    "    '''\n",
    "    # Crea tupla a traves de una comprensión de lista\n",
    "    return tuple([tupla[e] for e in range(0, len(tupla), 2)])\n",
    "\n",
    "# Prueba\n",
    "tupla = ('Yo', 'mi', 'a', 'prueba', 'tupla')\n",
    "print(tuplaPares(tupla))"
   ]
  },
  {
   "cell_type": "markdown",
   "metadata": {},
   "source": [
    "## Ejercicio 3\n",
    "\n",
    "Escribe una función `interseccion()` que tome dos listas y devuelva `True` si tienen al menos 1\n",
    "elemento en común o devuelva `False` en caso contrario. "
   ]
  },
  {
   "cell_type": "code",
   "execution_count": 5,
   "metadata": {},
   "outputs": [
    {
     "name": "stdout",
     "output_type": "stream",
     "text": [
      "[0, 1, 2, 3, 4, 5, 6, 7, 8, 9]\n",
      "[9, 10, 11, 12, 13]\n",
      "True\n"
     ]
    }
   ],
   "source": [
    "def interseccion(listaA, listaB):\n",
    "    '''\n",
    "    Verifica si dos listas tienen al menos un elemento en comun.\n",
    "\n",
    "            Parameters:\n",
    "                    listaA (list): lista con elementos\n",
    "                    listaB (list): lista con elementos\n",
    "\n",
    "            Returns:\n",
    "                    res (bool): tiene o no elementos en comun\n",
    "    '''\n",
    "    \n",
    "    # Iteramos sobre las dos listas\n",
    "    for a in listaA:\n",
    "        for b in listaB:\n",
    "            # En caso de encontrar el mismo elemento en las listas regresar True\n",
    "            if a == b:\n",
    "                return True\n",
    "    return False\n",
    "\n",
    "# pruebas\n",
    "listaA = [e for e in range(10)]\n",
    "listaB = [e for e in range(9, 14)]\n",
    "print(listaA)\n",
    "print(listaB)\n",
    "print(interseccion(listaA, listaB))"
   ]
  },
  {
   "cell_type": "markdown",
   "metadata": {},
   "source": [
    "## Ejercicio 4\n",
    "\n",
    "Escribe una función que reciba una cadena y devuelva un diccionario con la cantidad de\n",
    "apariciones de cada palabra en la cadena. Por ejemplo, si recibe \"que día tan lluvioso que hace\n",
    "hoy\", debe devolver: `{'que': 2, 'día': 1, 'tan': 1, 'lluvioso': 1, 'hace': 1, 'hoy': 1}` "
   ]
  },
  {
   "cell_type": "code",
   "execution_count": 49,
   "metadata": {},
   "outputs": [
    {
     "name": "stdout",
     "output_type": "stream",
     "text": [
      "{'que': 2, 'día': 1, 'tan': 1, 'lluvioso': 1, 'hace': 1, 'hoy': 1}\n"
     ]
    }
   ],
   "source": [
    "def contar_palabras(frase):\n",
    "    '''\n",
    "    Cuenta el número de veces que ocurre cada palabra en una cadena\n",
    "\n",
    "            Parameters:\n",
    "                    frase (String): frase en la que se cuentas las palabras\n",
    "\n",
    "            Returns:\n",
    "                    ocurrencias (dict): número de ocurrencias por palabra\n",
    "    '''\n",
    "    # Almacenar cada palabra de la cadena\n",
    "    palabras = frase.split()\n",
    "    ocurrencias = dict()\n",
    "    \n",
    "    # Iterar sobre la lista de palabras y contar su frecuencia\n",
    "    for palabra in palabras:\n",
    "        ocurrencias[palabra] = ocurrencias.get(palabra, 0) + 1\n",
    "        \n",
    "    return ocurrencias\n",
    "\n",
    "# Pruebas\n",
    "frase = \"que día tan lluvioso que hace hoy\"\n",
    "print(contar_palabras(frase))"
   ]
  },
  {
   "cell_type": "markdown",
   "metadata": {},
   "source": [
    "## Ejercicio 5\n",
    "\n",
    "Escribe una función que reciba una cantidad de iteraciones de una tirada de 2 dados a realizar\n",
    "y devuelva la cantidad de veces que se observa cada valor que aparece de los dados. "
   ]
  },
  {
   "cell_type": "code",
   "execution_count": 3,
   "metadata": {},
   "outputs": [
    {
     "name": "stdout",
     "output_type": "stream",
     "text": [
      "(6, 6) : 285\n",
      "(6, 5) : 266\n",
      "(6, 4) : 293\n",
      "(6, 3) : 246\n",
      "(6, 2) : 294\n",
      "(6, 1) : 274\n",
      "(5, 6) : 277\n",
      "(5, 5) : 268\n",
      "(5, 4) : 267\n",
      "(5, 3) : 265\n",
      "(5, 2) : 285\n",
      "(5, 1) : 273\n",
      "(4, 6) : 267\n",
      "(4, 5) : 293\n",
      "(4, 4) : 282\n",
      "(4, 3) : 255\n",
      "(4, 2) : 283\n",
      "(4, 1) : 294\n",
      "(3, 6) : 286\n",
      "(3, 5) : 289\n",
      "(3, 4) : 295\n",
      "(3, 3) : 280\n",
      "(3, 2) : 268\n",
      "(3, 1) : 286\n",
      "(2, 6) : 269\n",
      "(2, 5) : 267\n",
      "(2, 4) : 285\n",
      "(2, 3) : 255\n",
      "(2, 2) : 283\n",
      "(2, 1) : 285\n",
      "(1, 6) : 315\n",
      "(1, 5) : 285\n",
      "(1, 4) : 272\n",
      "(1, 3) : 253\n",
      "(1, 2) : 283\n",
      "(1, 1) : 277\n"
     ]
    }
   ],
   "source": [
    "from random import randint\n",
    "\n",
    "def numero_combinacion_de_dados(n):\n",
    "    '''\n",
    "    Cuenta las combinaciones de dos dados en n lanzamientos\n",
    "\n",
    "            Parameters:\n",
    "                    n (int): numero de lanzamiento de dados\n",
    "\n",
    "            Returns:\n",
    "                    num_dice_combos (dict): número de ocurrencias por combinación de dado\n",
    "    '''\n",
    "    num_dice_combos = dict()\n",
    "    \n",
    "    # Tiramos y contamos dados\n",
    "    for i in range(n):\n",
    "        c = randint(1, 6), randint(1, 6) # lanzamiento de dados aleatorio\n",
    "        num_dice_combos[c] = num_dice_combos.get(c, 0) + 1\n",
    "    return num_dice_combos\n",
    "\n",
    "counter = numero_combinacion_de_dados(10000)\n",
    "\n",
    "# Imprimimos las combinaciones en orden\n",
    "for dice in sorted(counter, reverse = True, key = lambda dice: dice):\n",
    "    print(dice,\":\",counter[dice])"
   ]
  },
  {
   "cell_type": "markdown",
   "metadata": {},
   "source": [
    "## Ejercicio 6\n",
    "\n",
    "Un programa para hacer la multiplicación de dos matrices A(m, n) y B(n, p). Los datos pueden\n",
    "especificarse explícitamente dentro del programa o ser leídos desde archivo. "
   ]
  },
  {
   "cell_type": "code",
   "execution_count": 76,
   "metadata": {},
   "outputs": [
    {
     "name": "stdout",
     "output_type": "stream",
     "text": [
      "Matriz: A\n",
      "[3, 0, 3, 1, 5, 5, 2]\n",
      "[4, 1, 0, 1, 5, 2, 2]\n",
      "\n",
      "Matriz: B\n",
      "[1, 3, 1, 0]\n",
      "[2, 1, 0, 1]\n",
      "[3, 2, 1, 4]\n",
      "[1, 2, 4, 1]\n",
      "[1, 1, 5, 1]\n",
      "[5, 1, 5, 2]\n",
      "[3, 0, 1, 3]\n",
      "\n",
      "Matriz: C\n",
      "[49, 27, 62, 34]\n",
      "[28, 22, 45, 17]\n",
      "\n"
     ]
    }
   ],
   "source": [
    "from random import randrange\n",
    "\n",
    "def multiplicacion_de_matrices(A, B):\n",
    "    if not(A) or not(B) or not(len(A[0]) == len(B)):\n",
    "        return []\n",
    "    \n",
    "    C = [[0 for _ in range(len(B[0]))] for _ in range(len(A))]\n",
    "    \n",
    "    m,p,K = len(A), len(B[0]), len(B)\n",
    "    \n",
    "    for i in range(m):\n",
    "        for j in range(p):\n",
    "            for k in range(K):\n",
    "                C[i][j] += A[i][k] * B[k][j]\n",
    "    return C\n",
    "\n",
    "# Metodo auxiliar para imprimir matrices\n",
    "def imprimir_matriz(A):\n",
    "    for a in A:\n",
    "        print(a)\n",
    "    print()\n",
    "\n",
    "# Pruebas\n",
    "m, p, n = 2, 4, 7 # Dimensiones de las matrices\n",
    "\n",
    "# Definición de matrices\n",
    "A = [[ randrange(6) for a in range(n)] for i in range(m)]\n",
    "B = [[ randrange(6) for a in range(p)] for i in range(n)]\n",
    "\n",
    "# Resultado de la multiplicacion\n",
    "C = multiplicacion_de_matrices(A, B)\n",
    "\n",
    "for matrix, name in zip([A, B, C], ['A', 'B', 'C']):\n",
    "    print(\"Matriz: \" + name)\n",
    "    imprimir_matriz(matrix)"
   ]
  },
  {
   "cell_type": "markdown",
   "metadata": {},
   "source": [
    "## Ejercicio 7\n",
    "\n",
    "Un programa que contenga una función que reciba dos cadenas de caracteres, cuente y regrese\n",
    "la cantidad de veces que aparece la segunda cadena en la primera. Por ejemplo, si la primera\n",
    "cadena es 'azcbobobegghakl' y la segunda 'bob', entonces la función regresará un dos.  \n",
    ">El programa deberá imprimir:  \n",
    "    `Cantidad de veces que bob ocurre es: 2`"
   ]
  },
  {
   "cell_type": "code",
   "execution_count": 119,
   "metadata": {},
   "outputs": [
    {
     "name": "stdout",
     "output_type": "stream",
     "text": [
      "Cantidad de veces que bob ocurre es: 8\n"
     ]
    }
   ],
   "source": [
    "from functools import reduce\n",
    "\n",
    "def ocurrencias_en_una_frase(frase, palabra):\n",
    "    if len(frase) < len(palabra):\n",
    "        return -1\n",
    "    \n",
    "    contador = 0\n",
    "    base = 27\n",
    "    \n",
    "    funcion_hash = lambda h, c: h * base + ord(c)\n",
    "    frase_hash = reduce(funcion_hash, frase[:len(palabra)], 0)\n",
    "    palabra_hash = reduce(funcion_hash, palabra, 0)  \n",
    "    power_palabra = base**max(len(palabra) - 1, 0)\n",
    "    \n",
    "    for i in range(len(palabra), len(frase)):\n",
    "        \n",
    "        if frase_hash == palabra_hash and frase[i - len(palabra):i] == palabra:\n",
    "            contador += 1\n",
    "        frase_hash -= ord(frase[i - len(palabra)]) * power_palabra\n",
    "        frase_hash = frase_hash * base + ord(frase[i])\n",
    "    \n",
    "    \n",
    "    if frase_hash == palabra_hash and frase[-len(palabra):] == palabra:\n",
    "            contador += 1\n",
    "        \n",
    "    return contador\n",
    "\n",
    "frase = 'azcbobobobobobegghbobobaklbob'\n",
    "palabra = 'bob'\n",
    "ocurrencias = ocurrencias_en_una_frase(frase, palabra)\n",
    "print(f\"Cantidad de veces que {palabra} ocurre es: {ocurrencias}\")"
   ]
  },
  {
   "cell_type": "markdown",
   "metadata": {},
   "source": [
    "# Ejercicio 8\n",
    "\n",
    "Un programa que lea palabras desde un archivo de texto y cuente cuántas veces aparece cada\n",
    "palabra distinta. Utiliza un diccionario para resolver el problema. También imprime la cantidad\n",
    "total de palabras distintas."
   ]
  },
  {
   "cell_type": "code",
   "execution_count": 4,
   "metadata": {},
   "outputs": [
    {
     "name": "stdout",
     "output_type": "stream",
     "text": [
      "'the': 60\n",
      "'of': 40\n",
      "'a': 25\n",
      "'in': 22\n",
      "'to': 21\n",
      "'and': 21\n",
      "'data': 14\n",
      "'was': 12\n",
      "'database': 11\n",
      "'for': 11\n"
     ]
    }
   ],
   "source": [
    "def contar_palabras(archivo):\n",
    "    counter = dict()\n",
    "    with open(file_name, 'r') as md:\n",
    "        for line in md:\n",
    "            for word in line.strip().split():\n",
    "                counter[word] = counter.get(word, 0) + 1\n",
    "    return counter \n",
    "file_name = 'text.txt'\n",
    "counter = contar_palabras(file_name)\n",
    "\n",
    "# Imprimimos las 10 palabras más frecuentes\n",
    "for word in sorted(counter, reverse = True, key = lambda word: counter[word])[:10]:\n",
    "    print(\"'\" + word + \"':\",counter[word])"
   ]
  },
  {
   "cell_type": "markdown",
   "metadata": {},
   "source": [
    "## Ejercicio 9\n",
    "\n",
    "Un programa que contenga una función recursiva que reciba un diccionario y regrese la\n",
    "cantidad de valores que contiene. Considera que los valores pueden ser de cualquier tipo\n",
    "(enteros, cadenas, listas, etc.) y tener cualquier tipo de anidamientos (listas de tuplas,\n",
    "diccionarios con listas, etc.). Prueba tu programa con diferentes tipos de valores. "
   ]
  },
  {
   "cell_type": "code",
   "execution_count": 13,
   "metadata": {},
   "outputs": [
    {
     "name": "stdout",
     "output_type": "stream",
     "text": [
      "{'a': [[[1, 2, 3], [1, 2, 3], [1, 2, 3]], [[1, 2, 3], [1, 2, 3], [1, 2, 3]], [[1, 2, 3], [1, 2, 3], [1, 2, 3]], [[1, 2, 3], [1, 2, 3], [1, 2, 3]], [[1, 2, 3], [1, 2, 3], [1, 2, 3]]], 'b': ['ggg', 'ggg', 'ggg'], 'c': (1, 2), 'd': 5}\n",
      "\n",
      "El número de elementos en el diccionario es de 57.\n"
     ]
    }
   ],
   "source": [
    "def iterable(obj):\n",
    "    try:\n",
    "        iter(obj)\n",
    "    except Exception:\n",
    "        return False\n",
    "    else:\n",
    "        return True\n",
    "    \n",
    "def numero_de_elementos(elemento):\n",
    "    counter = 0\n",
    "    if type(elemento) == type(dict()):\n",
    "        elemento = elemento.values()\n",
    "    if iterable(elemento):\n",
    "        for v in elemento:\n",
    "            counter += numero_de_elementos(v)\n",
    "    else:\n",
    "        return 1\n",
    "    return counter\n",
    "\n",
    "\n",
    "# Prueba\n",
    "A = {'a':[[[1,2,3] for _ in range(3)] for _ in range(5)], 'b': ['ggg' for _ in range(3)], 'c': (1,2), 'd': 5}\n",
    "print(A)\n",
    "print()\n",
    "print(f\"El número de elementos en el diccionario es de {numero_de_elementos(A)}.\")"
   ]
  },
  {
   "cell_type": "markdown",
   "metadata": {},
   "source": [
    "## Ejercicio 10\n",
    "\n",
    "Un programa que inicialmente lea desde teclado dos cadenas (de 7 caracteres máximo) las\n",
    "cuales definirán un rango, por lo que la 1ª cadena deberá ser lexicográficamente menor que la\n",
    "2ª. El programa leerá después n líneas desde un archivo de texto (cada línea de una longitud\n",
    "máxima de 40 caracteres).  \n",
    "Los primeros siete caracteres de cada línea del archivo de texto constituirán la \"clave\" de la\n",
    "misma. El programa leerá una línea y si su clave está en el rango dado inicialmente, la escribirá\n",
    "en un archivo de salida. Por ejemplo, si el rango dado es \"Jaso\" a \"Ramos\", entonces el archivo\n",
    "de salida contendrá todas aquellas líneas cuya clave lexicográficamente esté entre estas dos\n",
    "cadenas. "
   ]
  },
  {
   "cell_type": "code",
   "execution_count": null,
   "metadata": {},
   "outputs": [],
   "source": [
    "# Suponemos que las líneas en el archivo tienen más de 7 caracteres pero a lo más 40\n",
    "def linea_esta_en_rango(minimo, maximo):\n",
    "    for linea in flec:\n",
    "        if minimo <= linea[:7] <= maximo:\n",
    "            fesc.write(linea)\n",
    "\n",
    "# Suponemos que el usuario ingresa rangos correctos\n",
    "minimo = input(\"Ingresa la palabra con valor del mínimo\")\n",
    "maximo = input(\"Ingresa la palabra con valor del maximo\")\n",
    "\n",
    "leer = ''\n",
    "escribir = ''\n",
    "\n",
    "flec= open(leer,'r')\n",
    "fesc= open(escribir,'w')\n",
    "\n",
    "linea_esta_en_rango(minimo, maximo)\n",
    "\n",
    "flec.close()\n",
    "fesc.close()"
   ]
  }
 ],
 "metadata": {
  "kernelspec": {
   "display_name": "Python 3",
   "language": "python",
   "name": "python3"
  },
  "language_info": {
   "codemirror_mode": {
    "name": "ipython",
    "version": 3
   },
   "file_extension": ".py",
   "mimetype": "text/x-python",
   "name": "python",
   "nbconvert_exporter": "python",
   "pygments_lexer": "ipython3",
   "version": "3.7.4"
  }
 },
 "nbformat": 4,
 "nbformat_minor": 2
}
